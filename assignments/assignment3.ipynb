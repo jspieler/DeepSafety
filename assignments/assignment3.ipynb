{
 "cells": [
  {
   "cell_type": "markdown",
   "metadata": {},
   "source": [
    "# Assignment 3: Uncertainty Quantification\n",
    "\n",
    "## Overview\n",
    "In this assignment, you will get practice on how to quantify epistemic uncertainty of your machine learning model and think about risks and how to design mitigation strategies for your AD system.\n",
    "This time we will use `Batch 3` for validation. Unzip the corresponding batch folder. The password is \"False\".\n",
    "\n",
    "Complete the tasks below. \n",
    "\n",
    "**Note:** Make sure you hand in all Python files that you changed or created.\n",
    "\n",
    "Learning goals:\n",
    "\n",
    "* Understand the role of uncertainty quantification for safety-critical applications.\n",
    "* Learn to quantify epistemic uncertainty.\n",
    "* Understand risks and plan mitigations for an AD system."
   ]
  },
  {
   "cell_type": "markdown",
   "metadata": {},
   "source": [
    "## Task 1: Estimate the epistemic uncertainty of your model\n",
    "Calculate the epistemic uncertainty of your model for the given data."
   ]
  },
  {
   "cell_type": "code",
   "execution_count": null,
   "metadata": {},
   "outputs": [],
   "source": [
    "# implement your solution here"
   ]
  },
  {
   "cell_type": "markdown",
   "metadata": {},
   "source": [
    "## Task 2: Analyse the result\n",
    "Given the uncertainty estimates of task 1, do you think your model is good enough to be deployed? Is your model performance and confidence as you would\n",
    "have expected it to be?"
   ]
  },
  {
   "cell_type": "markdown",
   "metadata": {},
   "source": [
    "==> Please answer the question here and explain the reason for your decision. "
   ]
  },
  {
   "cell_type": "markdown",
   "metadata": {},
   "source": [
    "## Task 3: Beyond Quantification\n",
    "Now that you've estimated your model's uncertainty, how do you deal with this information? How can you use this information in context of your AD system? Think about a concept and process to leverage this information to ensure safety of your AD system."
   ]
  },
  {
   "cell_type": "markdown",
   "metadata": {},
   "source": [
    "==> Please answer the question here."
   ]
  }
 ],
 "metadata": {
  "kernelspec": {
   "display_name": "deepsafety_env",
   "language": "python",
   "name": "python3"
  },
  "language_info": {
   "codemirror_mode": {
    "name": "ipython",
    "version": 3
   },
   "file_extension": ".py",
   "mimetype": "text/x-python",
   "name": "python",
   "nbconvert_exporter": "python",
   "pygments_lexer": "ipython3",
   "version": "3.11.7"
  }
 },
 "nbformat": 4,
 "nbformat_minor": 2
}
