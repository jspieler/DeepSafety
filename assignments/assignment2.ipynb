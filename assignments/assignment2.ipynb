{
 "cells": [
  {
   "cell_type": "markdown",
   "metadata": {},
   "source": [
    "# Assignment 2: Robustness\n",
    "\n",
    "## Overview\n",
    "In this assignment, you will estimate and improve the robustness of your model.\n",
    "This time we will use `Batch 2_1` and `Batch 2_2` for validation. Unzip the corresponding batch folders. The password is \"Variance\".\n",
    "\n",
    "Complete the tasks below. \n",
    "\n",
    "**Note:** Make sure you hand in all Python files that you changed or created.\n",
    "\n",
    "Learning goals:\n",
    "\n",
    "* Understand the role and importance of a proper validation campaign.\n",
    "* Learn to systematically estimate the robustness for machine learning models.\n",
    "* Design mitigation strategies to improve the robustness. "
   ]
  },
  {
   "cell_type": "markdown",
   "metadata": {},
   "source": [
    "## Task 1: Estimate the performance of your model\n",
    "Analyse the performance of your model for `Batch_2_1`. How does your model perform on this batch? What is special about the batch? How can you deal with it?"
   ]
  },
  {
   "cell_type": "markdown",
   "metadata": {},
   "source": [
    "==> Please answer the questions here. "
   ]
  },
  {
   "cell_type": "markdown",
   "metadata": {},
   "source": [
    "## Task 2: Estimate the robustness of your model\n",
    "2.1 The task is to test the neural network against individual robustness properties and report each property's robustness score for `Batch_2_2`. \n",
    "\n",
    "We define the robustness score as the number of robust predictions divided by the total number of samples in the dataset. A sample is considered robust to a given property if the prediction is correct for all transformations/perturbations captured by the property. Note that robustness is defined only over samples for which the model already predicts the correct label.\n",
    "\n",
    "Assume following transformations and thresholds for your evaluation:\n",
    "\n",
    "- Rotation [-15°, 15°]\n",
    "- Brightness [-0.1, 0.1]\n",
    "- Hue [-0.1, 0.1]\n",
    "- Gaussian blur with a kernel size 3 and standard deviation [0.1, 0.3]"
   ]
  },
  {
   "cell_type": "code",
   "execution_count": null,
   "metadata": {},
   "outputs": [],
   "source": [
    "# implement your solution here"
   ]
  },
  {
   "cell_type": "markdown",
   "metadata": {},
   "source": [
    "2.2 How many experiments would you need to cover the whole search space (assuming a step size of 1° for rotation and a step size of 0.05 for all other properties)?"
   ]
  },
  {
   "cell_type": "markdown",
   "metadata": {},
   "source": [
    "==> Please answer the question here. "
   ]
  },
  {
   "cell_type": "markdown",
   "metadata": {},
   "source": [
    "## Task 3: Improve the robustness of your model\n",
    "3.1 How can you improve the robustness of your model? Implement an approach and justify your decision. \n",
    "\n",
    "Note: Simply using `Batch_2_2` for training is not a proper solution."
   ]
  },
  {
   "cell_type": "code",
   "execution_count": null,
   "metadata": {},
   "outputs": [],
   "source": [
    "# implement your solution here"
   ]
  },
  {
   "cell_type": "markdown",
   "metadata": {},
   "source": [
    "==> Please briefly explain the reason for your decision. "
   ]
  },
  {
   "cell_type": "markdown",
   "metadata": {},
   "source": [
    "3.2 There are many other task-specific properties relevant for traffic sign classification that frequently occur in practice. Define at least 3 transformations that capture these properties which can be used for both, assessing the robustness of your model and generating a synthetic dataset for training."
   ]
  },
  {
   "cell_type": "markdown",
   "metadata": {},
   "source": [
    "==> Please insert your answer here. "
   ]
  }
 ],
 "metadata": {
  "kernelspec": {
   "display_name": "deepsafety_env",
   "language": "python",
   "name": "python3"
  },
  "language_info": {
   "codemirror_mode": {
    "name": "ipython",
    "version": 3
   },
   "file_extension": ".py",
   "mimetype": "text/x-python",
   "name": "python",
   "nbconvert_exporter": "python",
   "pygments_lexer": "ipython3",
   "version": "3.11.7"
  }
 },
 "nbformat": 4,
 "nbformat_minor": 2
}
