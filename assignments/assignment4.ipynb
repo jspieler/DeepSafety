{
 "cells": [
  {
   "cell_type": "markdown",
   "metadata": {},
   "source": [
    "# Assigment 4: Domain Shift\n",
    "\n",
    "## Overview\n",
    "In this assignment, you will have a chance to systematically identify issues of your model and risks associated with a dependent AD system.\n",
    "This time we will use `Batch 4` for validation. Unzip the corresponding batch folder. The password is \"Domain\".\n",
    "\n",
    "Complete the tasks below. \n",
    "\n",
    "**Note:** Make sure you hand in all Python files that you changed or created.\n",
    "\n",
    "Learning goals:\n",
    "\n",
    "* Learn to systematically evaluate the performance of machine learning models in detail.\n",
    "* Understand risks and plan mitigations for safety-critical systems."
   ]
  },
  {
   "cell_type": "markdown",
   "metadata": {},
   "source": [
    "## Task 1: Estimate the performance of your model\n",
    "Estimate the performance of your model on the given data. How does your model perform on this batch?"
   ]
  },
  {
   "cell_type": "markdown",
   "metadata": {},
   "source": [
    "==> Please answer the question here and justify your decision. "
   ]
  },
  {
   "cell_type": "markdown",
   "metadata": {},
   "source": [
    "## Task 2: Deeper analysis\n",
    "Based on your previous answer, try to take a more nuanced view on your validation. What happened to your model? How do you deal with this? Justify your decision and state based on which conditions your decision was taken."
   ]
  },
  {
   "cell_type": "markdown",
   "metadata": {},
   "source": [
    "==> Please answer the questions here and provide arguments. "
   ]
  },
  {
   "cell_type": "markdown",
   "metadata": {},
   "source": [
    "## Task 3: Risk Asssessment\n",
    "Conduct a risk assessment based on all knowledge and insights you gained so far. Identify potential risks, assess each risk based on factors such as severity, likelihood, potential impact and controllability, prioritize the risks and think about mitigation strategies for the highest-priority risks. Based on the prioritized risks and mitigation strategies, develop an action plan."
   ]
  },
  {
   "cell_type": "markdown",
   "metadata": {},
   "source": [
    "==> Please insert your risk assessment here (max. 1 DinA4 page). "
   ]
  }
 ],
 "metadata": {
  "kernelspec": {
   "display_name": "deepsafety_env",
   "language": "python",
   "name": "python3"
  },
  "language_info": {
   "codemirror_mode": {
    "name": "ipython",
    "version": 3
   },
   "file_extension": ".py",
   "mimetype": "text/x-python",
   "name": "python",
   "nbconvert_exporter": "python",
   "pygments_lexer": "ipython3",
   "version": "3.11.7"
  }
 },
 "nbformat": 4,
 "nbformat_minor": 2
}
